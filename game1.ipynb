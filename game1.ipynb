{
 "cells": [
  {
   "cell_type": "code",
   "execution_count": null,
   "id": "615115c3-0ec3-4c53-a29f-634fc26acd6a",
   "metadata": {},
   "outputs": [],
   "source": [
    "# Game: Rock paper scissors\n",
    "# A function to play rock paper scissors with computer\n",
    "# Requirements:\n",
    "# - rules: paper > rock, rock > scissors, etc.\n",
    "# - computer randomly choose one\n",
    "# - player input one\n",
    "# - get result from rule, win / lose / draw\n",
    "# - if draw, not count 1 round, play that round again\n",
    "# - play 3 rounds for each game, who win 2 round win the game"
   ]
  },
  {
   "cell_type": "code",
   "execution_count": null,
   "id": "04261d62-9e21-4e48-9352-af6283ba99dc",
   "metadata": {},
   "outputs": [],
   "source": [
    "# computer choose randomly\n",
    "\n",
    "# user input\n",
    "\n",
    "# check who wins that round\n",
    "\n",
    "# loop 3 rounds\n",
    "# -> if draw, repeat that round / do not count that round\n",
    "\n",
    "# count number of wins"
   ]
  },
  {
   "cell_type": "code",
   "execution_count": 39,
   "id": "48dbf7b1-88a4-4e97-9f2d-d395f08c9a76",
   "metadata": {},
   "outputs": [
    {
     "name": "stdout",
     "output_type": "stream",
     "text": [
      "rock\n"
     ]
    }
   ],
   "source": [
    "# computer choose randomly\n",
    "\n",
    "# option 1\n",
    "import random\n",
    "\n",
    "choices = ['rock', 'paper', 'scissors']\n",
    "computer_choice = random.choice(choices)\n",
    "\n",
    "print(computer_choice)"
   ]
  },
  {
   "cell_type": "code",
   "execution_count": 27,
   "id": "8f95f5fd-7b74-4b71-a1be-0d68b278da17",
   "metadata": {},
   "outputs": [
    {
     "name": "stdout",
     "output_type": "stream",
     "text": [
      "2\n"
     ]
    }
   ],
   "source": [
    "# option 2\n",
    "import random\n",
    "choices = [0,1,2]\n",
    "computer_choice = random.choice(choices)\n",
    "\n",
    "print(computer_choice)"
   ]
  },
  {
   "cell_type": "code",
   "execution_count": null,
   "id": "e471c07c-faeb-4bc9-aef6-066acd00ca39",
   "metadata": {},
   "outputs": [],
   "source": []
  },
  {
   "cell_type": "code",
   "execution_count": 1,
   "id": "9ca6cadf-88a5-42da-b1d1-16481a1115d7",
   "metadata": {},
   "outputs": [
    {
     "name": "stdin",
     "output_type": "stream",
     "text": [
      "Input rock, paper or scissors rock\n"
     ]
    },
    {
     "name": "stdout",
     "output_type": "stream",
     "text": [
      "Computer:  paper\n",
      "Computer Wins!\n",
      "Player:  0\n",
      "Computer:  1\n"
     ]
    },
    {
     "name": "stdin",
     "output_type": "stream",
     "text": [
      "Input rock, paper or scissors rock\n"
     ]
    },
    {
     "name": "stdout",
     "output_type": "stream",
     "text": [
      "Computer:  scissors\n",
      "Player Wins!\n",
      "Player:  1\n",
      "Computer:  1\n"
     ]
    },
    {
     "name": "stdin",
     "output_type": "stream",
     "text": [
      "Input rock, paper or scissors rock\n"
     ]
    },
    {
     "name": "stdout",
     "output_type": "stream",
     "text": [
      "Computer:  rock\n",
      "Draw\n",
      "Player:  1\n",
      "Computer:  1\n"
     ]
    },
    {
     "name": "stdin",
     "output_type": "stream",
     "text": [
      "Input rock, paper or scissors rock\n"
     ]
    },
    {
     "name": "stdout",
     "output_type": "stream",
     "text": [
      "Computer:  rock\n",
      "Draw\n",
      "Player:  1\n",
      "Computer:  1\n"
     ]
    },
    {
     "name": "stdin",
     "output_type": "stream",
     "text": [
      "Input rock, paper or scissors rock\n"
     ]
    },
    {
     "name": "stdout",
     "output_type": "stream",
     "text": [
      "Computer:  scissors\n",
      "Player Wins!\n",
      "Player:  2\n",
      "Computer:  1\n"
     ]
    }
   ],
   "source": [
    "import random\n",
    "\n",
    "choices = ['rock', 'paper', 'scissors']\n",
    "player_win=0\n",
    "computer_win=0\n",
    "\n",
    "while (player_win or computer_win)<2:\n",
    "\n",
    "    computer_choice = random.choice(choices)\n",
    "    \n",
    "    player_choice=input('Input rock, paper or scissors')\n",
    "    print('Computer: ', computer_choice)\n",
    "    \n",
    "    if (player_choice=='rock' and computer_choice == 'scissors') or (player_choice=='scissors' and computer_choice == 'paper') or player_choice=='paper' and computer_choice == 'rock' :\n",
    "        print('Player Wins!')\n",
    "        player_win+=1\n",
    "\n",
    "    if (computer_choice=='rock' and player_choice == 'scissors') or (computer_choice=='scissors' and player_choice == 'paper') or (computer_choice=='paper' and player_choice == 'rock'):\n",
    "        print('Computer Wins!')\n",
    "        computer_win+=1\n",
    "\n",
    "    if player_choice==computer_choice:\n",
    "        print('Draw')\n",
    "        \n",
    "    print('Player: ', player_win)\n",
    "    print('Computer: ', computer_win)"
   ]
  },
  {
   "cell_type": "code",
   "execution_count": null,
   "id": "03b448f3-cdde-488b-8dc3-d416d09f4ecb",
   "metadata": {},
   "outputs": [],
   "source": []
  },
  {
   "cell_type": "code",
   "execution_count": null,
   "id": "6bb9ba0d-d9ac-4505-b09b-6578439f047e",
   "metadata": {},
   "outputs": [],
   "source": []
  },
  {
   "cell_type": "code",
   "execution_count": null,
   "id": "718bcab6-9354-4703-9177-f90a7a220406",
   "metadata": {},
   "outputs": [],
   "source": []
  },
  {
   "cell_type": "code",
   "execution_count": null,
   "id": "b755ad87-cad1-47af-8b37-8ef30c2968ea",
   "metadata": {},
   "outputs": [],
   "source": []
  }
 ],
 "metadata": {
  "kernelspec": {
   "display_name": "Python 3 (ipykernel)",
   "language": "python",
   "name": "python3"
  },
  "language_info": {
   "codemirror_mode": {
    "name": "ipython",
    "version": 3
   },
   "file_extension": ".py",
   "mimetype": "text/x-python",
   "name": "python",
   "nbconvert_exporter": "python",
   "pygments_lexer": "ipython3",
   "version": "3.10.9"
  }
 },
 "nbformat": 4,
 "nbformat_minor": 5
}
