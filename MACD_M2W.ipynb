{
 "cells": [
  {
   "cell_type": "code",
   "execution_count": 11,
   "id": "53d02b7b-743c-4ba9-8cbc-888751a49272",
   "metadata": {
    "tags": []
   },
   "outputs": [],
   "source": [
    "import pandas as pd\n",
    "\n",
    "#Read in the S&P500 data\n",
    "sp500 = pd.read_csv('https://query1.finance.yahoo.com/v7/finance/download/^GSPC?period1=0&period2=9999999999&interval=1wk&events=history&includeAdjustedClose=true')\n",
    "\n",
    "#Calculate the 12-period and 26-period exponential moving averages (EMAs)\n",
    "sp500['ema52'] = sp500['Adj Close'].ewm(span=52, adjust=False).mean()\n",
    "sp500['ema113'] = sp500['Adj Close'].ewm(span=113, adjust=False).mean()\n",
    "\n",
    "#Calculate the MACD line as the difference between the 12-period EMA and the 26-period EMA\n",
    "sp500['macd'] = sp500['ema52'] - sp500['ema113']\n",
    "\n",
    "#Calculate the 9-period EMA of the MACD line to get the signal line\n",
    "sp500['signal'] = sp500['macd'].ewm(span=39, adjust=False).mean()\n",
    "\n",
    "#Calculate the MACD histogram as the difference between the MACD line and the signal line\n",
    "sp500['macd_hist'] = sp500['macd'] - sp500['signal']\n",
    "\n",
    "#Calculate the lagged MACD histogram\n",
    "sp500['macd_hist_lag'] = sp500['macd_hist'].shift(1)\n",
    "\n",
    "#Calculate the periods when the MACD histogram turns positive from negative\n",
    "sp500['signal_cross'] = ((sp500['macd_hist_lag'] < 0) & (sp500['macd_hist'] > 0)).astype(int)\n",
    "\n",
    "#Calculate the 4-week, 8-week, and 52-week returns when the MACD histogram turns positive from negative\n",
    "for i in range(4, 53, 4):\n",
    "    col_name = 'return_{}w_signal_cross'.format(i)\n",
    "    sp500[col_name] = sp500['Adj Close'].pct_change(periods=i)\n",
    "    sp500[col_name] = sp500[col_name].shift(-i) * sp500['signal_cross']\n",
    "\n",
    "#Export the data to a CSV file\n",
    "sp500.to_csv('MACD_M2W.csv', index=False)"
   ]
  },
  {
   "cell_type": "code",
   "execution_count": null,
   "id": "51b4a356-6746-42e6-b6c3-111d2e62815d",
   "metadata": {},
   "outputs": [],
   "source": []
  }
 ],
 "metadata": {
  "kernelspec": {
   "display_name": "Python 3 (ipykernel)",
   "language": "python",
   "name": "python3"
  },
  "language_info": {
   "codemirror_mode": {
    "name": "ipython",
    "version": 3
   },
   "file_extension": ".py",
   "mimetype": "text/x-python",
   "name": "python",
   "nbconvert_exporter": "python",
   "pygments_lexer": "ipython3",
   "version": "3.11.3"
  }
 },
 "nbformat": 4,
 "nbformat_minor": 5
}
